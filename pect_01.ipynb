{
 "cells": [
  {
   "cell_type": "code",
   "execution_count": 14,
   "id": "0306ad2c",
   "metadata": {},
   "outputs": [],
   "source": [
    "from qdrant_client import QdrantClient\n",
    "client = QdrantClient(host=\"localhost\", port=6333)"
   ]
  },
  {
   "cell_type": "code",
   "execution_count": 15,
   "id": "1d3314a6",
   "metadata": {},
   "outputs": [],
   "source": [
    "import pandas as pd\n",
    "import numpy as np\n",
    "\n",
    "fruits = [\"apple\", \"banana\", \"cherry\", \"grape\", \"orange\", \"pineapple\", \"kiwi\", \"mango\"]\n",
    "df = pd.DataFrame({\"name\": fruits})\n",
    "\n",
    "df['embedding'] = df['name'].apply(lambda x:np.random.rand(4).tolist())"
   ]
  },
  {
   "cell_type": "code",
   "execution_count": 16,
   "id": "24d8f477",
   "metadata": {},
   "outputs": [
    {
     "data": {
      "text/html": [
       "<div>\n",
       "<style scoped>\n",
       "    .dataframe tbody tr th:only-of-type {\n",
       "        vertical-align: middle;\n",
       "    }\n",
       "\n",
       "    .dataframe tbody tr th {\n",
       "        vertical-align: top;\n",
       "    }\n",
       "\n",
       "    .dataframe thead th {\n",
       "        text-align: right;\n",
       "    }\n",
       "</style>\n",
       "<table border=\"1\" class=\"dataframe\">\n",
       "  <thead>\n",
       "    <tr style=\"text-align: right;\">\n",
       "      <th></th>\n",
       "      <th>name</th>\n",
       "      <th>embedding</th>\n",
       "    </tr>\n",
       "  </thead>\n",
       "  <tbody>\n",
       "    <tr>\n",
       "      <th>0</th>\n",
       "      <td>apple</td>\n",
       "      <td>[0.8966700914619465, 0.2417949951775452, 0.000...</td>\n",
       "    </tr>\n",
       "    <tr>\n",
       "      <th>1</th>\n",
       "      <td>banana</td>\n",
       "      <td>[0.4647854943480131, 0.7625755114338449, 0.248...</td>\n",
       "    </tr>\n",
       "    <tr>\n",
       "      <th>2</th>\n",
       "      <td>cherry</td>\n",
       "      <td>[0.37395004403848375, 0.2991189957390683, 0.26...</td>\n",
       "    </tr>\n",
       "    <tr>\n",
       "      <th>3</th>\n",
       "      <td>grape</td>\n",
       "      <td>[0.5863408472234448, 0.05552735585759949, 0.99...</td>\n",
       "    </tr>\n",
       "    <tr>\n",
       "      <th>4</th>\n",
       "      <td>orange</td>\n",
       "      <td>[0.9312167387480496, 0.9441938021502403, 0.024...</td>\n",
       "    </tr>\n",
       "    <tr>\n",
       "      <th>5</th>\n",
       "      <td>pineapple</td>\n",
       "      <td>[0.665638375427115, 0.40504384152019335, 0.629...</td>\n",
       "    </tr>\n",
       "    <tr>\n",
       "      <th>6</th>\n",
       "      <td>kiwi</td>\n",
       "      <td>[0.5048362458365612, 0.43448855845071277, 0.61...</td>\n",
       "    </tr>\n",
       "    <tr>\n",
       "      <th>7</th>\n",
       "      <td>mango</td>\n",
       "      <td>[0.6746339018833556, 0.5233571043988512, 0.304...</td>\n",
       "    </tr>\n",
       "  </tbody>\n",
       "</table>\n",
       "</div>"
      ],
      "text/plain": [
       "        name                                          embedding\n",
       "0      apple  [0.8966700914619465, 0.2417949951775452, 0.000...\n",
       "1     banana  [0.4647854943480131, 0.7625755114338449, 0.248...\n",
       "2     cherry  [0.37395004403848375, 0.2991189957390683, 0.26...\n",
       "3      grape  [0.5863408472234448, 0.05552735585759949, 0.99...\n",
       "4     orange  [0.9312167387480496, 0.9441938021502403, 0.024...\n",
       "5  pineapple  [0.665638375427115, 0.40504384152019335, 0.629...\n",
       "6       kiwi  [0.5048362458365612, 0.43448855845071277, 0.61...\n",
       "7      mango  [0.6746339018833556, 0.5233571043988512, 0.304..."
      ]
     },
     "execution_count": 16,
     "metadata": {},
     "output_type": "execute_result"
    }
   ],
   "source": [
    "df"
   ]
  },
  {
   "cell_type": "code",
   "execution_count": 17,
   "id": "0080f6bb",
   "metadata": {},
   "outputs": [
    {
     "name": "stderr",
     "output_type": "stream",
     "text": [
      "/tmp/ipykernel_37462/968325640.py:1: DeprecationWarning: `recreate_collection` method is deprecated and will be removed in the future. Use `collection_exists` to check collection existence and `create_collection` instead.\n",
      "  client.recreate_collection(\n"
     ]
    },
    {
     "data": {
      "text/plain": [
       "True"
      ]
     },
     "execution_count": 17,
     "metadata": {},
     "output_type": "execute_result"
    }
   ],
   "source": [
    "client.recreate_collection(\n",
    "    collection_name=\"fruit_vectors\",\n",
    "    vectors_config={\"size\": 4, \"distance\": \"Cosine\"}\n",
    ")"
   ]
  },
  {
   "cell_type": "code",
   "execution_count": 18,
   "id": "17274bd8",
   "metadata": {},
   "outputs": [],
   "source": [
    "client.upload_collection(\n",
    "    collection_name=\"fruit_vectors\",\n",
    "    vectors=df[\"embedding\"].tolist(),\n",
    "    payload=df.to_dict(orient=\"records\"),\n",
    "    ids=list(range(len(df)))\n",
    ")\n"
   ]
  },
  {
   "cell_type": "code",
   "execution_count": 20,
   "id": "69107f20",
   "metadata": {},
   "outputs": [
    {
     "name": "stderr",
     "output_type": "stream",
     "text": [
      "/tmp/ipykernel_37462/3373541917.py:2: DeprecationWarning: `search` method is deprecated and will be removed in the future. Use `query_points` instead.\n",
      "  results = client.search(\n"
     ]
    },
    {
     "name": "stdout",
     "output_type": "stream",
     "text": [
      "Name: kiwi | Score: 0.9963\n",
      "Name: pineapple | Score: 0.9414\n",
      "Name: cherry | Score: 0.9200\n",
      "Name: mango | Score: 0.9125\n",
      "Name: grape | Score: 0.8427\n",
      "Name: banana | Score: 0.8356\n",
      "Name: orange | Score: 0.8035\n",
      "Name: apple | Score: 0.7171\n"
     ]
    }
   ],
   "source": [
    "query_vector = np.random.rand(4).tolist()  # simulate a user query\n",
    "results = client.search(\n",
    "    collection_name=\"fruit_vectors\",\n",
    "    query_vector=query_vector,\n",
    ")\n",
    "\n",
    "for r in results:\n",
    "    print(f\"Name: {r.payload['name']} | Score: {r.score:.4f}\")\n"
   ]
  },
  {
   "cell_type": "code",
   "execution_count": null,
   "id": "aa5faa53",
   "metadata": {},
   "outputs": [],
   "source": []
  }
 ],
 "metadata": {
  "kernelspec": {
   "display_name": "venv (3.12.3)",
   "language": "python",
   "name": "python3"
  },
  "language_info": {
   "codemirror_mode": {
    "name": "ipython",
    "version": 3
   },
   "file_extension": ".py",
   "mimetype": "text/x-python",
   "name": "python",
   "nbconvert_exporter": "python",
   "pygments_lexer": "ipython3",
   "version": "3.12.3"
  }
 },
 "nbformat": 4,
 "nbformat_minor": 5
}
