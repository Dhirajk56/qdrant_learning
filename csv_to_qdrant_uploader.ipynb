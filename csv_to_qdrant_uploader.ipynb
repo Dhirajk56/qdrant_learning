{
 "cells": [
  {
   "cell_type": "code",
   "execution_count": 10,
   "id": "1c18b737",
   "metadata": {},
   "outputs": [
    {
     "name": "stdout",
     "output_type": "stream",
     "text": [
      "🔄 Loading embedding model...\n",
      "🧠 Generating embeddings from item descriptions...\n",
      "📦 Creating Qdrant collection with vector size: 384\n"
     ]
    },
    {
     "name": "stderr",
     "output_type": "stream",
     "text": [
      "/tmp/ipykernel_85380/422410257.py:39: DeprecationWarning: `recreate_collection` method is deprecated and will be removed in the future. Use `collection_exists` to check collection existence and `create_collection` instead.\n",
      "  client.recreate_collection(\n"
     ]
    },
    {
     "name": "stdout",
     "output_type": "stream",
     "text": [
      "📤 Uploading data to Qdrant...\n",
      "✅ Successfully uploaded 50 menu items to Qdrant collection 'restaurant_menu'\n"
     ]
    }
   ],
   "source": [
    "import pandas as pd\n",
    "import numpy as np\n",
    "from qdrant_client import QdrantClient\n",
    "from sentence_transformers import SentenceTransformer\n",
    "import os\n",
    "\n",
    "# -------------------- CONFIG --------------------\n",
    "CSV_PATH = \"/media/sandeep/363843093842C7971/project_ITM_samsher/My_Startup_Projects/qdrant/data.csv\"\n",
    "COLLECTION_NAME = \"restaurant_menu\"\n",
    "QDRANT_HOST = \"localhost\"\n",
    "QDRANT_PORT = 6333\n",
    "EMBEDDING_MODEL = \"all-MiniLM-L6-v2\"\n",
    "# ------------------------------------------------\n",
    "\n",
    "# Step 1: Load CSV\n",
    "if not os.path.exists(CSV_PATH):\n",
    "    raise FileNotFoundError(f\"CSV file not found: {CSV_PATH}\")\n",
    "\n",
    "df = pd.read_csv(CSV_PATH, quotechar='\"')\n",
    "\n",
    "if \"description\" not in df.columns:\n",
    "    raise ValueError(\"CSV must contain a 'description' column.\")\n",
    "\n",
    "# Step 2: Load embedding model\n",
    "print(\"🔄 Loading embedding model...\")\n",
    "model = SentenceTransformer(EMBEDDING_MODEL)\n",
    "\n",
    "# Step 3: Generate real embeddings from the 'description' column\n",
    "print(\"🧠 Generating embeddings from item descriptions...\")\n",
    "embeddings = model.encode(df[\"description\"].tolist(), convert_to_numpy=True)\n",
    "\n",
    "# Step 4: Connect to Qdrant\n",
    "client = QdrantClient(host=QDRANT_HOST, port=QDRANT_PORT)\n",
    "\n",
    "# Step 5: Create/Recreate collection\n",
    "VECTOR_SIZE = embeddings.shape[1]\n",
    "print(f\"📦 Creating Qdrant collection with vector size: {VECTOR_SIZE}\")\n",
    "\n",
    "client.recreate_collection(\n",
    "    collection_name=COLLECTION_NAME,\n",
    "    vectors_config={\"size\": VECTOR_SIZE, \"distance\": \"Cosine\"}\n",
    ")\n",
    "\n",
    "# Step 6: Upload data with payload\n",
    "print(\"📤 Uploading data to Qdrant...\")\n",
    "client.upload_collection(\n",
    "    collection_name=COLLECTION_NAME,\n",
    "    vectors=embeddings.tolist(),\n",
    "    payload=df.to_dict(orient=\"records\"),\n",
    "    ids=df[\"id\"].tolist()\n",
    ")\n",
    "\n",
    "print(f\"✅ Successfully uploaded {len(df)} menu items to Qdrant collection '{COLLECTION_NAME}'\")\n"
   ]
  },
  {
   "cell_type": "code",
   "execution_count": null,
   "id": "c05be89c",
   "metadata": {},
   "outputs": [],
   "source": []
  }
 ],
 "metadata": {
  "kernelspec": {
   "display_name": "venv (3.12.3)",
   "language": "python",
   "name": "python3"
  },
  "language_info": {
   "codemirror_mode": {
    "name": "ipython",
    "version": 3
   },
   "file_extension": ".py",
   "mimetype": "text/x-python",
   "name": "python",
   "nbconvert_exporter": "python",
   "pygments_lexer": "ipython3",
   "version": "3.12.3"
  }
 },
 "nbformat": 4,
 "nbformat_minor": 5
}
