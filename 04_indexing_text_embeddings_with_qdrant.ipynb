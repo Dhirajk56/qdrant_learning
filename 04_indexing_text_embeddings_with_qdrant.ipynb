{
 "cells": [
  {
   "cell_type": "code",
   "execution_count": 1,
   "id": "1c8f0018",
   "metadata": {},
   "outputs": [],
   "source": [
    "import pandas as pd\n",
    "\n",
    "df = pd.DataFrame({\n",
    "    \"id\": [1, 2, 3, 4],\n",
    "    \"description\": [\n",
    "        \"A red apple that is juicy and sweet.\",\n",
    "        \"A yellow banana full of potassium.\",\n",
    "        \"A sports car with a powerful engine.\",\n",
    "        \"A mountain bike built for rough terrain.\"\n",
    "    ]\n",
    "})\n"
   ]
  },
  {
   "cell_type": "code",
   "execution_count": 2,
   "id": "f0f51fa6",
   "metadata": {},
   "outputs": [
    {
     "name": "stderr",
     "output_type": "stream",
     "text": [
      "/media/sandeep/363843093842C7971/project_ITM_samsher/My_Startup_Projects/qdrant/venv/lib/python3.12/site-packages/tqdm/auto.py:21: TqdmWarning: IProgress not found. Please update jupyter and ipywidgets. See https://ipywidgets.readthedocs.io/en/stable/user_install.html\n",
      "  from .autonotebook import tqdm as notebook_tqdm\n"
     ]
    }
   ],
   "source": [
    "from sentence_transformers import SentenceTransformer\n",
    "\n",
    "model = SentenceTransformer(\"all-MiniLM-L6-v2\")  # small, fast model\n",
    "embeddings = model.encode(df[\"description\"].tolist(), convert_to_numpy=True)\n"
   ]
  },
  {
   "cell_type": "code",
   "execution_count": 3,
   "id": "cbe2fa01",
   "metadata": {},
   "outputs": [
    {
     "name": "stderr",
     "output_type": "stream",
     "text": [
      "/tmp/ipykernel_177046/297415334.py:5: DeprecationWarning: `recreate_collection` method is deprecated and will be removed in the future. Use `collection_exists` to check collection existence and `create_collection` instead.\n",
      "  client.recreate_collection(\n"
     ]
    }
   ],
   "source": [
    "from qdrant_client import QdrantClient\n",
    "\n",
    "client = QdrantClient(host=\"localhost\", port=6333)\n",
    "\n",
    "client.recreate_collection(\n",
    "    collection_name=\"semantic_text_search\",\n",
    "    vectors_config={\"size\": embeddings.shape[1], \"distance\": \"Cosine\"}\n",
    ")\n",
    "\n",
    "client.upload_collection(\n",
    "    collection_name=\"semantic_text_search\",\n",
    "    vectors=embeddings.tolist(),\n",
    "    payload=df.to_dict(orient=\"records\"),\n",
    "    ids=df[\"id\"].tolist()\n",
    ")\n"
   ]
  },
  {
   "cell_type": "code",
   "execution_count": 5,
   "id": "4765187f",
   "metadata": {},
   "outputs": [
    {
     "name": "stderr",
     "output_type": "stream",
     "text": [
      "/tmp/ipykernel_177046/1271877106.py:4: DeprecationWarning: `search` method is deprecated and will be removed in the future. Use `query_points` instead.\n",
      "  results = client.search(\n"
     ]
    },
    {
     "name": "stdout",
     "output_type": "stream",
     "text": [
      "ID: 3 | Desc: A sports car with a powerful engine. | Score: 0.5779\n",
      "ID: 4 | Desc: A mountain bike built for rough terrain. | Score: 0.4027\n",
      "ID: 1 | Desc: A red apple that is juicy and sweet. | Score: 0.1524\n"
     ]
    }
   ],
   "source": [
    "query = \"a vehicle designed for speed and performance\"\n",
    "query_vector = model.encode(query).tolist()\n",
    "\n",
    "results = client.search(\n",
    "    collection_name=\"semantic_text_search\",\n",
    "    query_vector=query_vector,\n",
    "    limit=3\n",
    ")\n",
    "\n",
    "for hit in results:\n",
    "    print(f\"ID: {hit.id} | Desc: {hit.payload['description']} | Score: {hit.score:.4f}\")\n"
   ]
  }
 ],
 "metadata": {
  "kernelspec": {
   "display_name": "venv (3.12.3)",
   "language": "python",
   "name": "python3"
  },
  "language_info": {
   "codemirror_mode": {
    "name": "ipython",
    "version": 3
   },
   "file_extension": ".py",
   "mimetype": "text/x-python",
   "name": "python",
   "nbconvert_exporter": "python",
   "pygments_lexer": "ipython3",
   "version": "3.12.3"
  }
 },
 "nbformat": 4,
 "nbformat_minor": 5
}
