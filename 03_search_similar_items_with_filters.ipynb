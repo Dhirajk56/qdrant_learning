{
 "cells": [
  {
   "cell_type": "code",
   "execution_count": 1,
   "id": "c94a2db8",
   "metadata": {},
   "outputs": [],
   "source": [
    "import pandas as pd\n",
    "import numpy as np\n",
    "\n",
    "data = {\n",
    "    \"name\": [\"apple\", \"banana\", \"car\", \"bus\", \"bike\", \"grapes\", \"truck\"],\n",
    "    \"type\": [\"fruit\", \"fruit\", \"vehicle\", \"vehicle\", \"vehicle\", \"fruit\", \"vehicle\"]\n",
    "}\n",
    "df = pd.DataFrame(data)\n",
    "df[\"embedding\"] = df[\"name\"].apply(lambda _: np.random.rand(4).tolist())\n"
   ]
  },
  {
   "cell_type": "code",
   "execution_count": 2,
   "id": "9fec1f29",
   "metadata": {},
   "outputs": [
    {
     "name": "stderr",
     "output_type": "stream",
     "text": [
      "/tmp/ipykernel_162703/3654380714.py:5: DeprecationWarning: `recreate_collection` method is deprecated and will be removed in the future. Use `collection_exists` to check collection existence and `create_collection` instead.\n",
      "  client.recreate_collection(\n"
     ]
    }
   ],
   "source": [
    "from qdrant_client import QdrantClient\n",
    "\n",
    "client = QdrantClient(host=\"localhost\", port=6333)\n",
    "\n",
    "client.recreate_collection(\n",
    "    collection_name=\"hybrid_search_demo\",\n",
    "    vectors_config={\"size\": 4, \"distance\": \"Cosine\"}\n",
    ")\n",
    "\n",
    "client.upload_collection(\n",
    "    collection_name=\"hybrid_search_demo\",\n",
    "    vectors=df[\"embedding\"].tolist(),\n",
    "    payload=df.to_dict(orient=\"records\"),\n",
    "    ids=list(range(len(df)))\n",
    ")\n"
   ]
  },
  {
   "cell_type": "code",
   "execution_count": 4,
   "id": "896c4451",
   "metadata": {},
   "outputs": [
    {
     "name": "stderr",
     "output_type": "stream",
     "text": [
      "/tmp/ipykernel_162703/1027840466.py:5: DeprecationWarning: `search` method is deprecated and will be removed in the future. Use `query_points` instead.\n",
      "  results = client.search(\n"
     ]
    },
    {
     "name": "stdout",
     "output_type": "stream",
     "text": [
      "truck | Type: vehicle | Score: 0.7888\n",
      "bike | Type: vehicle | Score: 0.7569\n",
      "car | Type: vehicle | Score: 0.6767\n",
      "bus | Type: vehicle | Score: 0.4755\n"
     ]
    }
   ],
   "source": [
    "from qdrant_client.http.models import Filter, FieldCondition, MatchValue\n",
    "\n",
    "query_vector = np.random.rand(4).tolist()\n",
    "\n",
    "results = client.search(\n",
    "    collection_name=\"hybrid_search_demo\",\n",
    "    query_vector=query_vector,\n",
    "    limit=5,\n",
    "    query_filter=Filter(\n",
    "        must=[\n",
    "            FieldCondition(\n",
    "                key=\"type\",\n",
    "                match=MatchValue(value=\"vehicle\")\n",
    "            )\n",
    "        ]\n",
    "    )\n",
    ")\n",
    "\n",
    "for hit in results:\n",
    "    print(f\"{hit.payload['name']} | Type: {hit.payload['type']} | Score: {hit.score:.4f}\")\n"
   ]
  }
 ],
 "metadata": {
  "kernelspec": {
   "display_name": "venv (3.12.3)",
   "language": "python",
   "name": "python3"
  },
  "language_info": {
   "codemirror_mode": {
    "name": "ipython",
    "version": 3
   },
   "file_extension": ".py",
   "mimetype": "text/x-python",
   "name": "python",
   "nbconvert_exporter": "python",
   "pygments_lexer": "ipython3",
   "version": "3.12.3"
  }
 },
 "nbformat": 4,
 "nbformat_minor": 5
}
